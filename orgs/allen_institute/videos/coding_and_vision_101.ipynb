{
  "nbformat": 4,
  "nbformat_minor": 0,
  "metadata": {
    "colab": {
      "name": "coding_and_vision_101.ipynb",
      "provenance": [],
      "collapsed_sections": [],
      "toc_visible": true
    },
    "kernelspec": {
      "name": "python3",
      "display_name": "Python 3"
    }
  },
  "cells": [
    {
      "cell_type": "markdown",
      "metadata": {
        "id": "P0PtyfObQyeH",
        "colab_type": "text"
      },
      "source": [
        "# Coding & Vision 101\n",
        "\n",
        "![](https://alleninstitute.org/static/images/logo_BS_header.png?31b1e88e4ca3)\n",
        "\n",
        "**An introductory lecture series by the Allen Institute** \n",
        "\n",
        "This notebook was written by John Tigue. It simply breaks out an Allen Institute YouTube Playlist, [Coding & Vision 101: An Educational Lecture Series](https://www.youtube.com/playlist?list=PLCEC78997E3E2DAB4). The videos sum up to roughly twelve hours of lectures. This document is just the playlist with a paragraph or two of notes on each lecture.\n"
      ]
    },
    {
      "cell_type": "markdown",
      "metadata": {
        "id": "UEE7L-7qfkuU",
        "colab_type": "text"
      },
      "source": [
        "## Document identity\n",
        "\n",
        "<a href=\"https://colab.research.google.com/github/JohnTigue/whiteboarder/blob/master/orgs/allen_institute/videos/coding_and_vision_101.ipynb\"><img src=\"https://colab.research.google.com/assets/colab-badge.svg\" width=\"17%\" /></a>\n",
        "\n",
        "This notebook can be found on GitHub in the repository, [reconstrue/fieldnotes](https://github.com/reconstrue/fieldnotes/blob/master/orgs/allen_institute/videos/coding_and_vision_101.ipynb). \n"
      ]
    },
    {
      "cell_type": "markdown",
      "metadata": {
        "id": "opb-3uU04u2C",
        "colab_type": "text"
      },
      "source": [
        "## Introduction\n",
        "\n",
        "The series is split between two lecturers, [Dr. Christof Koch](https://alleninstitute.org/what-we-do/brain-science/about/team/staff-profiles/christof-koch/) and [Dr. Clay Reid](https://alleninstitute.org/what-we-do/brain-science/about/team/staff-profiles/r-clay-reid/), who are lead scientists at the Allen Institute. \n",
        "\n",
        "This 2012 series is timely still in 2020. In 2020-04, [the Allen Institute announced a reorganization](https://alleninstitute.org/what-we-do/brain-science/news-press/press-releases/allen-institute-announces-new-phase-neuroscience-research) along sub-missions, one of which is being called \"the MindScope Program\" which is simply the continuation of what is described in this series. There is no better introductory overview of what the operational goal has always been, even as they slogged through a decade of laying industria-scale scientfic pipe:\n",
        ">The MindScope Program, which seeks to understand how the brain's neural circuits produce the sense of vision, will also move into a new phase of discovery and will transition out of the Allen Institute for Brain Science to become a separate program of the Allen Institute… Christof Koch, Ph.D., currently the President and Chief Scientist of the Allen Institute for Brain Science, will continue to lead the MindScope Program as its Chief Scientist."
      ]
    },
    {
      "cell_type": "markdown",
      "metadata": {
        "id": "x3iCcWQSC3sY",
        "colab_type": "text"
      },
      "source": [
        "During the first lecture, Koch says:\n",
        ">\"Twelve introductions called, An Introduction Twelve Easy Pieces, will give an introduction to the brain – particularly the visual brain – and to the idea of computation, information processing in the brain. This is really meant to serve as the as intellectual background for the program that we are both to undertake or that we've started to undertake,  that we call MindScope,\n",
        "that's going good that's ongoing over the next ten years\n",
        "that seeks to explore the the cortex and associated systems in the in the in the mouse and where we seek to study its structure its function and link the structure to the function using computation – using modeling. So all the things that are going to be apparent over the next ten years will be discussed over the next half a year.\""
      ]
    },
    {
      "cell_type": "markdown",
      "metadata": {
        "id": "GaYQ4oU-Ks5M",
        "colab_type": "text"
      },
      "source": [
        "## Lectures"
      ]
    },
    {
      "cell_type": "code",
      "metadata": {
        "id": "6Kxha1VhBQEX",
        "colab_type": "code",
        "colab": {}
      },
      "source": [
        "from IPython.display import HTML\n",
        "\n",
        "def display_youtube(video_id):\n",
        "  return HTML(f'<iframe width=\"840\" height=\"472\" src=\"https://www.youtube.com/embed/{video_id}\" frameborder=\"0\" allowfullscreen></iframe>')"
      ],
      "execution_count": 0,
      "outputs": []
    },
    {
      "cell_type": "markdown",
      "metadata": {
        "id": "Ncbu1bjAHdBr",
        "colab_type": "text"
      },
      "source": [
        "### The Mammalian Visual System\n"
      ]
    },
    {
      "cell_type": "code",
      "metadata": {
        "id": "XRFz7hXNQebE",
        "colab_type": "code",
        "cellView": "form",
        "outputId": "53d3f390-26db-443f-da8c-c8b9fad2ef44",
        "colab": {
          "base_uri": "https://localhost:8080/",
          "height": 493
        }
      },
      "source": [
        "#@markdown Lecture 1\n",
        "\n",
        "display_youtube('mtPgW1ebxmE')"
      ],
      "execution_count": 2,
      "outputs": [
        {
          "output_type": "execute_result",
          "data": {
            "text/html": [
              "<iframe width=\"840\" height=\"472\" src=\"https://www.youtube.com/embed/mtPgW1ebxmE\" frameborder=\"0\" allowfullscreen></iframe>"
            ],
            "text/plain": [
              "<IPython.core.display.HTML object>"
            ]
          },
          "metadata": {
            "tags": []
          },
          "execution_count": 2
        }
      ]
    },
    {
      "cell_type": "markdown",
      "metadata": {
        "id": "gePOSIGKRW4_",
        "colab_type": "text"
      },
      "source": [
        "- [Lecture 1: A Walk-through of the Mammalian Visual System](https://www.youtube.com/watch?v=mtPgW1ebxmE&list=PLCEC78997E3E2DAB4)\n",
        "- Speaker: Reid, with a brief intro by Koch\n",
        "- Duration: 56:31\n",
        "- Recorded: 2012-07-16\n",
        "\n",
        "JFT notes:\n",
        "- Good start lecture of series, touching on many topics that will be dived into more thoroughly in later lectures.\n",
        "- Anatomy from retina to early visual system\n",
        "- Bit of history, as still germane\n",
        "- Touches on some experimental modalities (ephys, 2P optical, optogenetic manipulation)\n",
        "- Outlines what Allen Institute plans to be up to from 2012 to 2022\n",
        "- Koch uses the term \"MindScope\" in 2012\n"
      ]
    },
    {
      "cell_type": "markdown",
      "metadata": {
        "id": "pxGBrrXUCGHi",
        "colab_type": "text"
      },
      "source": [
        "### What is Meant by Computation?"
      ]
    },
    {
      "cell_type": "code",
      "metadata": {
        "id": "MXSP_VayCGkd",
        "colab_type": "code",
        "cellView": "form",
        "outputId": "6a48ed3f-e121-4d0c-e5d0-2900b5dafd10",
        "colab": {
          "base_uri": "https://localhost:8080/",
          "height": 493
        }
      },
      "source": [
        "#@markdown Lecture 2\n",
        "\n",
        "display_youtube('Hznt0DLk_y0')"
      ],
      "execution_count": 3,
      "outputs": [
        {
          "output_type": "execute_result",
          "data": {
            "text/html": [
              "<iframe width=\"840\" height=\"472\" src=\"https://www.youtube.com/embed/Hznt0DLk_y0\" frameborder=\"0\" allowfullscreen></iframe>"
            ],
            "text/plain": [
              "<IPython.core.display.HTML object>"
            ]
          },
          "metadata": {
            "tags": []
          },
          "execution_count": 3
        }
      ]
    },
    {
      "cell_type": "markdown",
      "metadata": {
        "id": "tNVneZGRHHrJ",
        "colab_type": "text"
      },
      "source": [
        "- [Lecture 2: What is Meant by Computation?](https://www.youtube.com/watch?v=Hznt0DLk_y0&list=PLCEC78997E3E2DAB4&index=3)\n",
        "- Speaker: Koch\n",
        "- Duration: 57:27"
      ]
    },
    {
      "cell_type": "markdown",
      "metadata": {
        "id": "KHMinRW_Bgqq",
        "colab_type": "text"
      },
      "source": [
        "### The Structure of the Neocortex\n"
      ]
    },
    {
      "cell_type": "code",
      "metadata": {
        "id": "R3WUmw2lBbks",
        "colab_type": "code",
        "cellView": "form",
        "outputId": "3680b944-848d-47d1-f0e0-d055b64d9611",
        "colab": {
          "base_uri": "https://localhost:8080/",
          "height": 493
        }
      },
      "source": [
        "#@markdown Lecture 3\n",
        "\n",
        "display_youtube('RhdcYNmW0zY')"
      ],
      "execution_count": 4,
      "outputs": [
        {
          "output_type": "execute_result",
          "data": {
            "text/html": [
              "<iframe width=\"840\" height=\"472\" src=\"https://www.youtube.com/embed/RhdcYNmW0zY\" frameborder=\"0\" allowfullscreen></iframe>"
            ],
            "text/plain": [
              "<IPython.core.display.HTML object>"
            ]
          },
          "metadata": {
            "tags": []
          },
          "execution_count": 4
        }
      ]
    },
    {
      "cell_type": "markdown",
      "metadata": {
        "id": "u86Qxki7GKzT",
        "colab_type": "text"
      },
      "source": [
        "- [Lecture 3: The Structure of the Neocortex](https://www.youtube.com/watch?v=RhdcYNmW0zY&list=PLCEC78997E3E2DAB4&index=3)\n",
        "- Speaker: Reid\n",
        "- Duration: 1:02:02\n",
        "\n",
        "Notes:\n",
        "- in@19:30:\n",
        "  - Thick lines are dendrites\n",
        "  - Thin lines are axons"
      ]
    },
    {
      "cell_type": "markdown",
      "metadata": {
        "id": "uE5EApVyK4MS",
        "colab_type": "text"
      },
      "source": [
        "### Cell Types and Computing in the Retina\n"
      ]
    },
    {
      "cell_type": "code",
      "metadata": {
        "id": "nbTOm4pPK1yc",
        "colab_type": "code",
        "cellView": "form",
        "outputId": "d43a7b4c-7beb-429b-d926-346bb8389938",
        "colab": {
          "base_uri": "https://localhost:8080/",
          "height": 493
        }
      },
      "source": [
        "#@markdown Lecture 4\n",
        "\n",
        "display_youtube('rWBW-OrVGAA')"
      ],
      "execution_count": 5,
      "outputs": [
        {
          "output_type": "execute_result",
          "data": {
            "text/html": [
              "<iframe width=\"840\" height=\"472\" src=\"https://www.youtube.com/embed/rWBW-OrVGAA\" frameborder=\"0\" allowfullscreen></iframe>"
            ],
            "text/plain": [
              "<IPython.core.display.HTML object>"
            ]
          },
          "metadata": {
            "tags": []
          },
          "execution_count": 5
        }
      ]
    },
    {
      "cell_type": "markdown",
      "metadata": {
        "id": "ikBwswuMw0Wy",
        "colab_type": "text"
      },
      "source": [
        "- [Lecture 4: Cell Types and Computing in the Retina](https://www.youtube.com/watch?v=rWBW-OrVGAA&list=PLCEC78997E3E2DAB4&index=5&t=0s) \n",
        "- Speaker: Koch\n",
        "- Duration: 1:07:20\n",
        "\n",
        "First part is a run-down of the fundamentals: what types of cells are there. Second part focuses on a then-recent paper which he uses to illustrate that spike encoding is required to trigger responses by later part of the visual system"
      ]
    },
    {
      "cell_type": "markdown",
      "metadata": {
        "id": "WtqwasPq3Rr-",
        "colab_type": "text"
      },
      "source": [
        "### Optical Imaging of Brains\n"
      ]
    },
    {
      "cell_type": "code",
      "metadata": {
        "id": "4QuSzG15qo8z",
        "colab_type": "code",
        "colab": {
          "base_uri": "https://localhost:8080/",
          "height": 493
        },
        "cellView": "form",
        "outputId": "da1dddaa-2401-493b-9282-259d4bdd43af"
      },
      "source": [
        "#@markdown Lecture 5\n",
        "\n",
        "display_youtube('4ZoKGFLg0HQ')"
      ],
      "execution_count": 6,
      "outputs": [
        {
          "output_type": "execute_result",
          "data": {
            "text/html": [
              "<iframe width=\"840\" height=\"472\" src=\"https://www.youtube.com/embed/4ZoKGFLg0HQ\" frameborder=\"0\" allowfullscreen></iframe>"
            ],
            "text/plain": [
              "<IPython.core.display.HTML object>"
            ]
          },
          "metadata": {
            "tags": []
          },
          "execution_count": 6
        }
      ]
    },
    {
      "cell_type": "markdown",
      "metadata": {
        "id": "qbFsN_t9rRvD",
        "colab_type": "text"
      },
      "source": [
        "- [Lecture 5: Optical Imaging of Brains](https://www.youtube.com/watch?v=4ZoKGFLg0HQ&list=PLCEC78997E3E2DAB4&index=5)\n",
        "- Speaker: Reid\n",
        "- Duration: 58:25\n",
        "\n",
        "\n"
      ]
    },
    {
      "cell_type": "markdown",
      "metadata": {
        "id": "yOyVTdc-HfdH",
        "colab_type": "text"
      },
      "source": [
        "### Brain Imaging and Visual Cortex\n"
      ]
    },
    {
      "cell_type": "code",
      "metadata": {
        "id": "l1HO_8NgsEER",
        "colab_type": "code",
        "colab": {
          "base_uri": "https://localhost:8080/",
          "height": 493
        },
        "cellView": "form",
        "outputId": "9ed25f2f-6271-4933-aa5d-de93a6770809"
      },
      "source": [
        "#@markdown Lecture 6\n",
        "display_youtube('m13Tk9_Ul-M')"
      ],
      "execution_count": 7,
      "outputs": [
        {
          "output_type": "execute_result",
          "data": {
            "text/html": [
              "<iframe width=\"840\" height=\"472\" src=\"https://www.youtube.com/embed/m13Tk9_Ul-M\" frameborder=\"0\" allowfullscreen></iframe>"
            ],
            "text/plain": [
              "<IPython.core.display.HTML object>"
            ]
          },
          "metadata": {
            "tags": []
          },
          "execution_count": 7
        }
      ]
    },
    {
      "cell_type": "markdown",
      "metadata": {
        "id": "IJ4nwuhpsDPs",
        "colab_type": "text"
      },
      "source": [
        "- [Lecture 6: Brain Imaging and Visual Cortex](https://www.youtube.com/watch?v=m13Tk9_Ul-M&list=PLCEC78997E3E2DAB4&index=6)\n",
        "- Speaker: Koch\n",
        "- Duration: 1:07:44"
      ]
    },
    {
      "cell_type": "markdown",
      "metadata": {
        "id": "uNjc8A9fHfSB",
        "colab_type": "text"
      },
      "source": [
        "### Information Processing in the Brain\n"
      ]
    },
    {
      "cell_type": "code",
      "metadata": {
        "id": "jRuGKLz89Hp-",
        "colab_type": "code",
        "colab": {
          "base_uri": "https://localhost:8080/",
          "height": 493
        },
        "cellView": "form",
        "outputId": "0f2926f6-0d95-48eb-bf3e-16d6edbfaccd"
      },
      "source": [
        "#@markdown Lecture 7\n",
        "display_youtube('Bm40BSZJRck')"
      ],
      "execution_count": 8,
      "outputs": [
        {
          "output_type": "execute_result",
          "data": {
            "text/html": [
              "<iframe width=\"840\" height=\"472\" src=\"https://www.youtube.com/embed/Bm40BSZJRck\" frameborder=\"0\" allowfullscreen></iframe>"
            ],
            "text/plain": [
              "<IPython.core.display.HTML object>"
            ]
          },
          "metadata": {
            "tags": []
          },
          "execution_count": 8
        }
      ]
    },
    {
      "cell_type": "markdown",
      "metadata": {
        "id": "m8bzYgyT9IPu",
        "colab_type": "text"
      },
      "source": [
        "- [Lecture 7: Information Processing in the Brain](https://youtu.be/Bm40BSZJRck?list=PLCEC78997E3E2DAB4)\n",
        "- Speaker: Koch\n",
        "- Duration 1:01:19\n"
      ]
    },
    {
      "cell_type": "markdown",
      "metadata": {
        "id": "rJTCxXkHHfId",
        "colab_type": "text"
      },
      "source": [
        "### What is the Connectome?\n"
      ]
    },
    {
      "cell_type": "code",
      "metadata": {
        "id": "7xHXoD2bFkO0",
        "colab_type": "code",
        "colab": {
          "base_uri": "https://localhost:8080/",
          "height": 493
        },
        "cellView": "form",
        "outputId": "11581b39-1d52-4683-ff06-2faaac620175"
      },
      "source": [
        "#@markdown Lecture 8\n",
        "display_youtube('Rm1KLXIDS_Y')"
      ],
      "execution_count": 9,
      "outputs": [
        {
          "output_type": "execute_result",
          "data": {
            "text/html": [
              "<iframe width=\"840\" height=\"472\" src=\"https://www.youtube.com/embed/Rm1KLXIDS_Y\" frameborder=\"0\" allowfullscreen></iframe>"
            ],
            "text/plain": [
              "<IPython.core.display.HTML object>"
            ]
          },
          "metadata": {
            "tags": []
          },
          "execution_count": 9
        }
      ]
    },
    {
      "cell_type": "markdown",
      "metadata": {
        "id": "31RiAX9YFjOC",
        "colab_type": "text"
      },
      "source": [
        "- [Lecture 8: What is the Connectome?](https://www.youtube.com/watch?v=Rm1KLXIDS_Y&list=PLCEC78997E3E2DAB4&index=9&t=0s)\n",
        "- Speaker: Reid\n",
        "- Duration: 1:13:17\n"
      ]
    },
    {
      "cell_type": "markdown",
      "metadata": {
        "id": "rHUUeUCeHe_F",
        "colab_type": "text"
      },
      "source": [
        "### Seeing the World in Color"
      ]
    },
    {
      "cell_type": "code",
      "metadata": {
        "id": "j2ybKF65Gcg3",
        "colab_type": "code",
        "colab": {
          "base_uri": "https://localhost:8080/",
          "height": 493
        },
        "cellView": "form",
        "outputId": "ee2b803b-15dc-4bb3-e410-a4ef75a21161"
      },
      "source": [
        "#@markdown Lecture 9\n",
        "display_youtube('ELj26VUBOPQ')"
      ],
      "execution_count": 10,
      "outputs": [
        {
          "output_type": "execute_result",
          "data": {
            "text/html": [
              "<iframe width=\"840\" height=\"472\" src=\"https://www.youtube.com/embed/ELj26VUBOPQ\" frameborder=\"0\" allowfullscreen></iframe>"
            ],
            "text/plain": [
              "<IPython.core.display.HTML object>"
            ]
          },
          "metadata": {
            "tags": []
          },
          "execution_count": 10
        }
      ]
    },
    {
      "cell_type": "markdown",
      "metadata": {
        "id": "-3FEFtKiGc-C",
        "colab_type": "text"
      },
      "source": [
        "- [Lecture 9: Seeing the World in Color](https://www.youtube.com/watch?v=ELj26VUBOPQ&list=PLCEC78997E3E2DAB4&index=10&t=0s)\n",
        "- Speaker: Koch\n",
        "- Duration: 1:11:09\n"
      ]
    },
    {
      "cell_type": "markdown",
      "metadata": {
        "id": "0e7VkJdjHeye",
        "colab_type": "text"
      },
      "source": [
        "### Learning in the cortex"
      ]
    },
    {
      "cell_type": "code",
      "metadata": {
        "id": "izy68vvhHa7b",
        "colab_type": "code",
        "colab": {
          "base_uri": "https://localhost:8080/",
          "height": 493
        },
        "cellView": "form",
        "outputId": "d25091a7-70bd-4fd7-ca48-6572bc0f867f"
      },
      "source": [
        "#@markdown Lecture 10\n",
        "display_youtube('KUzhAq04PzU')"
      ],
      "execution_count": 11,
      "outputs": [
        {
          "output_type": "execute_result",
          "data": {
            "text/html": [
              "<iframe width=\"840\" height=\"472\" src=\"https://www.youtube.com/embed/KUzhAq04PzU\" frameborder=\"0\" allowfullscreen></iframe>"
            ],
            "text/plain": [
              "<IPython.core.display.HTML object>"
            ]
          },
          "metadata": {
            "tags": []
          },
          "execution_count": 11
        }
      ]
    },
    {
      "cell_type": "markdown",
      "metadata": {
        "id": "pg7p6k7PHbXI",
        "colab_type": "text"
      },
      "source": [
        "- [Lecture 10: Learning in the cortex](https://www.youtube.com/watch?v=KUzhAq04PzU&list=PLCEC78997E3E2DAB4&index=11&t=0s)\n",
        "- Speaker: Reid\n",
        "- Duration: 1:08:46"
      ]
    },
    {
      "cell_type": "markdown",
      "metadata": {
        "id": "-j_sEnf8HecT",
        "colab_type": "text"
      },
      "source": [
        "### Visual Attention and Consciousness"
      ]
    },
    {
      "cell_type": "code",
      "metadata": {
        "id": "-idZPwcQIeat",
        "colab_type": "code",
        "colab": {
          "base_uri": "https://localhost:8080/",
          "height": 493
        },
        "cellView": "form",
        "outputId": "dcc998b8-38a7-41d0-f9e3-e6aa2211ac6b"
      },
      "source": [
        "#@markdown Lecture 11\n",
        "display_youtube('pnfudjQwjS8')"
      ],
      "execution_count": 12,
      "outputs": [
        {
          "output_type": "execute_result",
          "data": {
            "text/html": [
              "<iframe width=\"840\" height=\"472\" src=\"https://www.youtube.com/embed/pnfudjQwjS8\" frameborder=\"0\" allowfullscreen></iframe>"
            ],
            "text/plain": [
              "<IPython.core.display.HTML object>"
            ]
          },
          "metadata": {
            "tags": []
          },
          "execution_count": 12
        }
      ]
    },
    {
      "cell_type": "markdown",
      "metadata": {
        "id": "KXaobeOEIe0U",
        "colab_type": "text"
      },
      "source": [
        "- [Lecture 11: Visual Attention and Consciousness](https://www.youtube.com/watch?v=pnfudjQwjS8&list=PLCEC78997E3E2DAB4&index=12&t=0s)\n",
        "- Speaker: Koch\n",
        "- Duration: 1:10:02"
      ]
    },
    {
      "cell_type": "markdown",
      "metadata": {
        "id": "HfhoNdt9HxS2",
        "colab_type": "text"
      },
      "source": [
        "### Optogenetics"
      ]
    },
    {
      "cell_type": "code",
      "metadata": {
        "id": "30E4yivOJ9ZC",
        "colab_type": "code",
        "colab": {
          "base_uri": "https://localhost:8080/",
          "height": 493
        },
        "outputId": "b46ea781-ca79-4b74-84d7-648555d47e30"
      },
      "source": [
        "#@markdown Lecture 12\n",
        "display_youtube('LoXye6KBeCI')\n"
      ],
      "execution_count": 13,
      "outputs": [
        {
          "output_type": "execute_result",
          "data": {
            "text/html": [
              "<iframe width=\"840\" height=\"472\" src=\"https://www.youtube.com/embed/LoXye6KBeCI\" frameborder=\"0\" allowfullscreen></iframe>"
            ],
            "text/plain": [
              "<IPython.core.display.HTML object>"
            ]
          },
          "metadata": {
            "tags": []
          },
          "execution_count": 13
        }
      ]
    },
    {
      "cell_type": "markdown",
      "metadata": {
        "id": "H4q8t4LkJ99F",
        "colab_type": "text"
      },
      "source": [
        "- [Lecture 12: Optogenetics or How to Manipulate Neurons with Light](https://www.youtube.com/watch?v=LoXye6KBeCI&list=PLCEC78997E3E2DAB4&index=13&t=0s)\n",
        "- Speaker: Reid\n",
        "- Duration: 59:07"
      ]
    }
  ]
}