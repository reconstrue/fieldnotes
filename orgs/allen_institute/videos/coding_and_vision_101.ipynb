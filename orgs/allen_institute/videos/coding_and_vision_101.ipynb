{
  "nbformat": 4,
  "nbformat_minor": 0,
  "metadata": {
    "colab": {
      "name": "coding_and_vision_101.ipynb",
      "provenance": [],
      "collapsed_sections": [],
      "toc_visible": true
    },
    "kernelspec": {
      "name": "python3",
      "display_name": "Python 3"
    }
  },
  "cells": [
    {
      "cell_type": "markdown",
      "metadata": {
        "id": "P0PtyfObQyeH",
        "colab_type": "text"
      },
      "source": [
        "# Coding & Vision 101\n",
        "\n",
        "![](https://alleninstitute.org/static/images/logo_BS_header.png?31b1e88e4ca3)\n",
        "\n",
        "**An introductory lecture series by the Allen Institute** \n",
        "\n",
        "This notebook was written by John Tigue. It outlines a YouTube Playlist: [Coding & Vision 101: An Educational Lecture Series](https://www.youtube.com/playlist?list=PLCEC78997E3E2DAB4) produced by the Allen Institute. \n",
        "\n",
        "<a href=\"https://colab.research.google.com/github/JohnTigue/whiteboarder/blob/master/orgs/allen_institute/videos/coding_and_vision_101.ipynb\"><img src=\"https://colab.research.google.com/assets/colab-badge.svg\" width=\"17%\" /></a>\n"
      ]
    },
    {
      "cell_type": "markdown",
      "metadata": {
        "id": "UEE7L-7qfkuU",
        "colab_type": "text"
      },
      "source": [
        "## Document identity\n",
        "\n",
        "This notebook can be found on GitHub in the repository, [reconstrue/handbook](https://github.com/reconstrue/reconstrue_handbook/blob/master/orgs/allen_institute/videos/coding_and_vision_101.ipynb). \n"
      ]
    },
    {
      "cell_type": "markdown",
      "metadata": {
        "id": "opb-3uU04u2C",
        "colab_type": "text"
      },
      "source": [
        "## Introduction\n",
        "\n",
        "The series is split between two lecturers, [Dr. Christof Koch](https://alleninstitute.org/what-we-do/brain-science/about/team/staff-profiles/christof-koch/) and [Dr. Clay Reid](https://alleninstitute.org/what-we-do/brain-science/about/team/staff-profiles/r-clay-reid/), who are lead scientists at the Allen Institute. \n",
        "\n",
        "This 2012 series is timely still in 2020. Recently the Allen Institute reorganized along sub-missions, one of which is being called \"the MindScope Program\" which is simply the continuation of what is described in this series. There is no better introductory overview of what the operational goal has always been, even as they slogged through a decade of laying industria-scale scientfic pipe.\n"
      ]
    },
    {
      "cell_type": "markdown",
      "metadata": {
        "id": "Ncbu1bjAHdBr",
        "colab_type": "text"
      },
      "source": [
        "## A Walk-through of the Mammalian Visual System\n"
      ]
    },
    {
      "cell_type": "code",
      "metadata": {
        "id": "XRFz7hXNQebE",
        "colab_type": "code",
        "colab": {
          "base_uri": "https://localhost:8080/",
          "height": 336
        },
        "cellView": "form",
        "outputId": "3e81c720-3e1c-4bd4-b475-08f92d836025"
      },
      "source": [
        "#@markdown 1: A Walk-through of the Mammalian Visual System\n",
        "\n",
        "from IPython.display import HTML\n",
        "\n",
        "# Youtube\n",
        "HTML('<iframe width=\"560\" height=\"315\" src=\"https://www.youtube.com/embed/mtPgW1ebxmE?rel=0&amp;controls=0&amp;showinfo=0\" frameborder=\"0\" allowfullscreen></iframe>')\n"
      ],
      "execution_count": 1,
      "outputs": [
        {
          "output_type": "execute_result",
          "data": {
            "text/html": [
              "<iframe width=\"560\" height=\"315\" src=\"https://www.youtube.com/embed/mtPgW1ebxmE?rel=0&amp;controls=0&amp;showinfo=0\" frameborder=\"0\" allowfullscreen></iframe>"
            ],
            "text/plain": [
              "<IPython.core.display.HTML object>"
            ]
          },
          "metadata": {
            "tags": []
          },
          "execution_count": 1
        }
      ]
    },
    {
      "cell_type": "markdown",
      "metadata": {
        "id": "gePOSIGKRW4_",
        "colab_type": "text"
      },
      "source": [
        "[Lecture 1: A Walk-through of the Mammalian Visual System](https://www.youtube.com/watch?v=mtPgW1ebxmE&list=PLCEC78997E3E2DAB4)\n",
        "\n",
        ">\"Twelve introductions called, An Introduction Twelve Easy Pieces,\n",
        "will give an introduction to to the brain particularly the visual\n",
        "brain and to the idea of computation information processing in\n",
        "the brain and this is really meant to serve as the as\n",
        "intellectual background for the program that we are both to\n",
        "undertake or that we've started to undertake that we call mindscope\n",
        "that's going good that's ongoing over the next ten years\n",
        "that seeks to explore the the cortex and associated systems in\n",
        "the in the in the mouse and where we seek to study its structure\n",
        "its function and link the structure to the function using\n",
        "computation using modeling so all the seams that got to be a\n",
        "pound over the next ten years will be discussed by us\"\n",
        "\n",
        "JFT notes:\n",
        "- Good start lecture of series, touching on many topics that will be dived into more thoroughly in later lectures.\n",
        "- Anatomy from retina to early visual system\n",
        "- Bit of history, as still germane\n",
        "- Touches on some experimental modalities (ephys, 2P optical, optogenetic manipulation)\n",
        "- Outlines what Allen Institute plans to be up to from 2012 to 2022\n"
      ]
    },
    {
      "cell_type": "markdown",
      "metadata": {
        "id": "tNVneZGRHHrJ",
        "colab_type": "text"
      },
      "source": [
        "## What is Meant by Computation?\n",
        "\n",
        "Speaker: Koch\n",
        "\n",
        "[Lecture 2: What is Meant by Computation?](https://www.youtube.com/watch?v=Hznt0DLk_y0&list=PLCEC78997E3E2DAB4&index=3)"
      ]
    },
    {
      "cell_type": "markdown",
      "metadata": {
        "id": "u86Qxki7GKzT",
        "colab_type": "text"
      },
      "source": [
        "## The Structure of the Neocortex\n",
        "\n",
        "Speaker: Reid\n",
        "- [Lecture 3: The Structure of the Neocortex](https://www.youtube.com/watch?v=RhdcYNmW0zY&list=PLCEC78997E3E2DAB4&index=3)\n",
        "- in@19:30:\n",
        "  - Thick lines are dendrites\n",
        "  - Thin lines are axons\n"
      ]
    },
    {
      "cell_type": "markdown",
      "metadata": {
        "id": "ikBwswuMw0Wy",
        "colab_type": "text"
      },
      "source": [
        "## Cell Types and Computing in the Retina\n",
        "\n",
        "[Lecture 4: Cell Types and Computing in the Retina](https://www.youtube.com/watch?v=rWBW-OrVGAA&list=PLCEC78997E3E2DAB4&index=5&t=0s) \n",
        "- Speaker: Koch\n",
        "- Duration: 1:07:20\n",
        "- First part is a run-down of the fundamentals: what types of cells are there\n",
        "- Second part focuses on a then-recent paper which he uses to illustrate that spike encoding is required to trigger responses by later part of the visual system."
      ]
    },
    {
      "cell_type": "markdown",
      "metadata": {
        "id": "WtqwasPq3Rr-",
        "colab_type": "text"
      },
      "source": [
        "Lecture 5: Optical Imaging of Brains\n",
        "58:25\n",
        "\n",
        "Lecture 6: Brain Imaging and Visual Cortex\n",
        "1:07:44\n",
        "\n",
        "Lecture 7: Information Processing in the Brain\n",
        "1:01:19\n",
        "\n",
        "Lecture 8: What is the Connectome?\n",
        "1:13:17\n",
        "\n",
        "Lecture 9: Seeing the World in Color\n",
        "1:11:09\n",
        "\n",
        "Lecture 10: Learning in the cortex\n",
        "1:08:46\n",
        "\n",
        "Lecture 11: Visual Attention and Consciousness\n",
        "1:10:02\n",
        "\n",
        "Lecture 12: Optogenetics or How to Manipulate Neurons with Light\n",
        "59:07\n",
        "\n"
      ]
    }
  ]
}